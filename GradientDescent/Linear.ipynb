{
 "cells": [
  {
   "cell_type": "code",
   "id": "initial_id",
   "metadata": {
    "collapsed": true,
    "ExecuteTime": {
     "end_time": "2024-07-01T15:26:06.557312Z",
     "start_time": "2024-07-01T15:26:06.193787Z"
    }
   },
   "source": [
    "from __future__ import division, print_function, unicode_literals\n",
    "import numpy as np \n",
    "import matplotlib\n",
    "import matplotlib.pyplot as plt\n",
    "np.random.seed(2)"
   ],
   "outputs": [],
   "execution_count": 1
  },
  {
   "metadata": {
    "ExecuteTime": {
     "end_time": "2024-07-01T15:34:12.480344Z",
     "start_time": "2024-07-01T15:34:12.475803Z"
    }
   },
   "cell_type": "code",
   "source": [
    "X = np.random.rand(1000, 1) # tạo 1000 điểm dữ liệu\n",
    "y = 4 + 3 * X + .2*np.random.randn(1000, 1) # y = 4 + 3x + nhiễu\n",
    "one = np.ones((X.shape[0],1))\n",
    "Xbar = np.concatenate((one, X), axis = 1)"
   ],
   "id": "3055868c181a5fb3",
   "outputs": [],
   "execution_count": 4
  },
  {
   "metadata": {},
   "cell_type": "markdown",
   "source": [
    "Sử dụng công thức định nghĩa đạo hàm numerical gradient để tìm đạo hàm của hàm mất mát:\n",
    "        $f'(x) \\approx \\frac{f(x + \\epsilon) - f(x - \\epsilon)}{2\\epsilon}$"
   ],
   "id": "913010b93b37adb8"
  },
  {
   "metadata": {
    "ExecuteTime": {
     "end_time": "2024-07-01T15:33:34.655685Z",
     "start_time": "2024-07-01T15:33:34.651746Z"
    }
   },
   "cell_type": "code",
   "source": [
    "def numerical_grad(w,cost):\n",
    "    eps = 1e-5\n",
    "    dw = np.zeros_like(w)\n",
    "    for i in range(len(w)):\n",
    "        w_p = w.copy()\n",
    "        w_n = w.copy()\n",
    "        w_p[i] += eps\n",
    "        w_n[i] -= eps\n",
    "        dw[i] = (cost(w_p) - cost(w_n))/(2*eps)\n",
    "    return dw"
   ],
   "id": "8d3e3eac5f730b8b",
   "outputs": [],
   "execution_count": 3
  },
  {
   "metadata": {
    "ExecuteTime": {
     "end_time": "2024-07-01T15:34:34.057382Z",
     "start_time": "2024-07-01T15:34:34.053209Z"
    }
   },
   "cell_type": "code",
   "source": [
    "def cost(w):\n",
    "    N = Xbar.shape[0]\n",
    "    return .5/N*np.linalg.norm(y - Xbar.dot(w), 2)**2"
   ],
   "id": "524c31e5aeadbca4",
   "outputs": [],
   "execution_count": 5
  },
  {
   "metadata": {
    "ExecuteTime": {
     "end_time": "2024-07-01T15:39:14.334988Z",
     "start_time": "2024-07-01T15:39:14.330383Z"
    }
   },
   "cell_type": "code",
   "source": [
    "def myGD(w_init, eta):\n",
    "    w = [w_init]\n",
    "    for it in range(10000):\n",
    "        w_new = w[-1] - eta*numerical_grad(w[-1],cost)\n",
    "        if np.linalg.norm(numerical_grad(w_new,cost))/len(w_new) < 1e-9:\n",
    "            break\n",
    "        w.append(w_new)\n",
    "    return w, it"
   ],
   "id": "fec754cf3c93f7b3",
   "outputs": [],
   "execution_count": 29
  },
  {
   "metadata": {
    "ExecuteTime": {
     "end_time": "2024-07-01T15:39:15.486701Z",
     "start_time": "2024-07-01T15:39:14.865829Z"
    }
   },
   "cell_type": "code",
   "source": [
    "w_init = np.array([[2], [1]], dtype = float)\n",
    "(w1, it1) = myGD(w_init, 0.1)\n",
    "print('Nghiệm tìm được bằng GD: w = ', w1[-1].T, ',\\nsau %d lần lặp.' %(it1+1))"
   ],
   "id": "ab59a2ee0f156ae3",
   "outputs": [
    {
     "name": "stdout",
     "output_type": "stream",
     "text": [
      "Nghiệm tìm được bằng GD: w =  [[3.99177205 3.01021113]] ,\n",
      "sau 2619 lần lặp.\n"
     ]
    }
   ],
   "execution_count": 30
  },
  {
   "metadata": {
    "ExecuteTime": {
     "end_time": "2024-07-01T15:41:08.556545Z",
     "start_time": "2024-07-01T15:41:08.551876Z"
    }
   },
   "cell_type": "code",
   "source": [
    "A = np.dot(Xbar.T, Xbar)\n",
    "b = np.dot(Xbar.T, y)\n",
    "w_lr = np.dot(np.linalg.pinv(A), b)\n",
    "print('Nghiệm tìm được bằng công thức đạo hàm: w = ',w_lr.T)"
   ],
   "id": "1d1aec724aa67fd3",
   "outputs": [
    {
     "name": "stdout",
     "output_type": "stream",
     "text": [
      "Nghiệm tìm được bằng công thức đạo hàm: w =  [[3.99177204 3.01021115]]\n"
     ]
    }
   ],
   "execution_count": 32
  },
  {
   "metadata": {},
   "cell_type": "code",
   "outputs": [],
   "execution_count": null,
   "source": "",
   "id": "2d7a9fd95b6b5cff"
  }
 ],
 "metadata": {
  "kernelspec": {
   "display_name": "Python 3",
   "language": "python",
   "name": "python3"
  },
  "language_info": {
   "codemirror_mode": {
    "name": "ipython",
    "version": 2
   },
   "file_extension": ".py",
   "mimetype": "text/x-python",
   "name": "python",
   "nbconvert_exporter": "python",
   "pygments_lexer": "ipython2",
   "version": "2.7.6"
  }
 },
 "nbformat": 4,
 "nbformat_minor": 5
}
