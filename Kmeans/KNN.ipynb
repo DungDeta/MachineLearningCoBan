{
 "cells": [
  {
   "cell_type": "code",
   "id": "initial_id",
   "metadata": {
    "collapsed": true,
    "ExecuteTime": {
     "end_time": "2024-07-01T15:15:42.853259Z",
     "start_time": "2024-07-01T15:15:42.849255Z"
    }
   },
   "source": [
    "import matplotlib.pyplot as plt\n",
    "import numpy as np\n",
    "from sklearn import neighbors, datasets\n",
    "from sklearn.model_selection import train_test_split\n",
    "from sklearn.metrics import accuracy_score"
   ],
   "outputs": [],
   "execution_count": 53
  },
  {
   "metadata": {
    "ExecuteTime": {
     "end_time": "2024-07-01T15:15:42.875852Z",
     "start_time": "2024-07-01T15:15:42.871261Z"
    }
   },
   "cell_type": "code",
   "source": [
    "iris = datasets.load_iris()\n",
    "iris_X = iris.data\n",
    "iris_y = iris.target\n",
    "print('Số các loại: %d' %len(set(iris_y)))\n",
    "print('Số điểm dữ liệu: %d' %len(iris_y))"
   ],
   "id": "850155ae48ba8e46",
   "outputs": [
    {
     "name": "stdout",
     "output_type": "stream",
     "text": [
      "Số các loại: 3\n",
      "Số điểm dữ liệu: 150\n"
     ]
    }
   ],
   "execution_count": 54
  },
  {
   "metadata": {
    "ExecuteTime": {
     "end_time": "2024-07-01T15:15:42.914413Z",
     "start_time": "2024-07-01T15:15:42.909852Z"
    }
   },
   "cell_type": "code",
   "source": [
    "X0 = iris_X[iris_y == 0,:]\n",
    "print('Dữ liệu loại 0: \\n', X0[:5,:])"
   ],
   "id": "942d34c6d80daa6c",
   "outputs": [
    {
     "name": "stdout",
     "output_type": "stream",
     "text": [
      "Dữ liệu loại 0: \n",
      " [[5.1 3.5 1.4 0.2]\n",
      " [4.9 3.  1.4 0.2]\n",
      " [4.7 3.2 1.3 0.2]\n",
      " [4.6 3.1 1.5 0.2]\n",
      " [5.  3.6 1.4 0.2]]\n"
     ]
    }
   ],
   "execution_count": 55
  },
  {
   "metadata": {
    "ExecuteTime": {
     "end_time": "2024-07-01T15:15:42.923312Z",
     "start_time": "2024-07-01T15:15:42.915412Z"
    }
   },
   "cell_type": "code",
   "source": [
    "X1 = iris_X[iris_y == 1,:]\n",
    "print('Dữ liệu loại 1: \\n', X1[:5,:])"
   ],
   "id": "962b69a43d3e4ea5",
   "outputs": [
    {
     "name": "stdout",
     "output_type": "stream",
     "text": [
      "Dữ liệu loại 1: \n",
      " [[7.  3.2 4.7 1.4]\n",
      " [6.4 3.2 4.5 1.5]\n",
      " [6.9 3.1 4.9 1.5]\n",
      " [5.5 2.3 4.  1.3]\n",
      " [6.5 2.8 4.6 1.5]]\n"
     ]
    }
   ],
   "execution_count": 56
  },
  {
   "metadata": {
    "ExecuteTime": {
     "end_time": "2024-07-01T15:15:42.933636Z",
     "start_time": "2024-07-01T15:15:42.928301Z"
    }
   },
   "cell_type": "code",
   "source": [
    "X2 = iris_X[iris_y == 2,:]\n",
    "print('Dữ liệu loại 2: \\n', X2[:5,:])"
   ],
   "id": "cbd6906eb2614c8c",
   "outputs": [
    {
     "name": "stdout",
     "output_type": "stream",
     "text": [
      "Dữ liệu loại 2: \n",
      " [[6.3 3.3 6.  2.5]\n",
      " [5.8 2.7 5.1 1.9]\n",
      " [7.1 3.  5.9 2.1]\n",
      " [6.3 2.9 5.6 1.8]\n",
      " [6.5 3.  5.8 2.2]]\n"
     ]
    }
   ],
   "execution_count": 57
  },
  {
   "metadata": {
    "ExecuteTime": {
     "end_time": "2024-07-01T15:15:42.942203Z",
     "start_time": "2024-07-01T15:15:42.934634Z"
    }
   },
   "cell_type": "code",
   "source": [
    "X_train, X_test, y_train, y_test = train_test_split(iris_X, iris_y, test_size=50) #chia dữ liệu thành 2 phần: 100 dữ liệu train, 50 dữ liệu test\n",
    "print('Số dữ liệu train: %d' %len(y_train))\n",
    "print('Số dữ liệu test: %d' %len(y_test))"
   ],
   "id": "ec198b664eddeda7",
   "outputs": [
    {
     "name": "stdout",
     "output_type": "stream",
     "text": [
      "Số dữ liệu train: 100\n",
      "Số dữ liệu test: 50\n"
     ]
    }
   ],
   "execution_count": 58
  },
  {
   "metadata": {
    "ExecuteTime": {
     "end_time": "2024-07-01T15:15:42.957412Z",
     "start_time": "2024-07-01T15:15:42.950158Z"
    }
   },
   "cell_type": "code",
   "source": [
    "clf = neighbors.KNeighborsClassifier(n_neighbors = 1, p = 2) #p = 2 là khoảng cách Euclid\n",
    "clf.fit(X_train, y_train)\n",
    "y_pred = clf.predict(X_test)\n",
    "print('Kết quả dự đoán: \\n', y_pred)\n",
    "print('Kết quả thực: \\n', y_test)"
   ],
   "id": "ded501250759b830",
   "outputs": [
    {
     "name": "stdout",
     "output_type": "stream",
     "text": [
      "Kết quả dự đoán: \n",
      " [2 2 0 1 0 0 0 0 1 0 0 1 2 2 1 2 1 2 1 0 0 2 2 0 2 1 2 1 1 2 0 1 2 0 2 0 0\n",
      " 2 1 2 1 1 0 1 2 1 0 2 0 0]\n",
      "Kết quả thực: \n",
      " [2 2 0 1 0 0 0 0 1 0 0 1 2 2 1 2 1 2 1 0 0 2 2 0 2 1 2 1 1 2 0 1 2 0 2 0 0\n",
      " 2 1 2 1 1 0 1 2 1 0 2 0 0]\n"
     ]
    }
   ],
   "execution_count": 59
  },
  {
   "metadata": {
    "ExecuteTime": {
     "end_time": "2024-07-01T15:15:42.980027Z",
     "start_time": "2024-07-01T15:15:42.976027Z"
    }
   },
   "cell_type": "code",
   "source": "print('Độ chính xác: %.2f %%' %(100*accuracy_score(y_test, y_pred)))",
   "id": "1572761f0f7c1b76",
   "outputs": [
    {
     "name": "stdout",
     "output_type": "stream",
     "text": [
      "Độ chính xác: 100.00 %\n"
     ]
    }
   ],
   "execution_count": 60
  },
  {
   "metadata": {
    "ExecuteTime": {
     "end_time": "2024-07-01T15:15:42.999508Z",
     "start_time": "2024-07-01T15:15:42.991761Z"
    }
   },
   "cell_type": "code",
   "source": [
    "clf = neighbors.KNeighborsClassifier(n_neighbors = 10, p = 2)\n",
    "clf.fit(X_train, y_train)\n",
    "y_pred = clf.predict(X_test)\n",
    "print('Kết quả dự đoán: \\n', y_pred)\n",
    "print('Kết quả thực: \\n', y_test)"
   ],
   "id": "25563f65e3933226",
   "outputs": [
    {
     "name": "stdout",
     "output_type": "stream",
     "text": [
      "Kết quả dự đoán: \n",
      " [2 2 0 1 0 0 0 0 1 0 0 1 2 2 1 2 1 2 1 0 0 2 2 0 2 1 2 1 1 2 0 1 2 0 2 0 0\n",
      " 2 1 2 1 1 0 1 2 1 0 2 0 0]\n",
      "Kết quả thực: \n",
      " [2 2 0 1 0 0 0 0 1 0 0 1 2 2 1 2 1 2 1 0 0 2 2 0 2 1 2 1 1 2 0 1 2 0 2 0 0\n",
      " 2 1 2 1 1 0 1 2 1 0 2 0 0]\n"
     ]
    }
   ],
   "execution_count": 61
  },
  {
   "metadata": {
    "ExecuteTime": {
     "end_time": "2024-07-01T15:15:43.005505Z",
     "start_time": "2024-07-01T15:15:43.000505Z"
    }
   },
   "cell_type": "code",
   "source": "print('Độ chính xác: %.2f %%' %(100*accuracy_score(y_test, y_pred)))",
   "id": "3451428003e21c26",
   "outputs": [
    {
     "name": "stdout",
     "output_type": "stream",
     "text": [
      "Độ chính xác: 100.00 %\n"
     ]
    }
   ],
   "execution_count": 62
  },
  {
   "metadata": {
    "ExecuteTime": {
     "end_time": "2024-07-01T15:15:43.016303Z",
     "start_time": "2024-07-01T15:15:43.006511Z"
    }
   },
   "cell_type": "code",
   "source": [
    "clf = neighbors.KNeighborsClassifier(n_neighbors = 10, p = 2, weights = 'distance') #weights = 'distance' là trọng số của các điểm dữ liệu\n",
    "clf.fit(X_train, y_train)\n",
    "y_pred = clf.predict(X_test)\n",
    "print('Kết quả dự đoán: \\n', y_pred)\n",
    "print('Kết quả thực: \\n', y_test)"
   ],
   "id": "a9fd2e4c5ab5621c",
   "outputs": [
    {
     "name": "stdout",
     "output_type": "stream",
     "text": [
      "Kết quả dự đoán: \n",
      " [2 2 0 1 0 0 0 0 1 0 0 1 2 2 1 2 1 2 1 0 0 2 2 0 2 1 2 1 1 2 0 1 2 0 2 0 0\n",
      " 2 1 2 1 1 0 1 2 1 0 2 0 0]\n",
      "Kết quả thực: \n",
      " [2 2 0 1 0 0 0 0 1 0 0 1 2 2 1 2 1 2 1 0 0 2 2 0 2 1 2 1 1 2 0 1 2 0 2 0 0\n",
      " 2 1 2 1 1 0 1 2 1 0 2 0 0]\n"
     ]
    }
   ],
   "execution_count": 63
  },
  {
   "metadata": {
    "ExecuteTime": {
     "end_time": "2024-07-01T15:15:43.050683Z",
     "start_time": "2024-07-01T15:15:43.046293Z"
    }
   },
   "cell_type": "code",
   "source": "print('Độ chính xác: %.2f %%' %(100*accuracy_score(y_test, y_pred)))",
   "id": "71db98773b015069",
   "outputs": [
    {
     "name": "stdout",
     "output_type": "stream",
     "text": [
      "Độ chính xác: 100.00 %\n"
     ]
    }
   ],
   "execution_count": 64
  },
  {
   "metadata": {
    "ExecuteTime": {
     "end_time": "2024-07-01T15:15:43.065814Z",
     "start_time": "2024-07-01T15:15:43.059685Z"
    }
   },
   "cell_type": "code",
   "source": [
    "def myweight(distances):\n",
    "    sigma2 = .5\n",
    "    return np.exp(-distances**2/sigma2)\n",
    "clf = neighbors.KNeighborsClassifier(n_neighbors = 10, p = 2, weights = myweight)\n",
    "clf.fit(X_train, y_train)\n",
    "y_pred = clf.predict(X_test)\n",
    "print('Kết quả dự đoán: \\n', y_pred)\n",
    "print('Kết quả thực: \\n', y_test)"
   ],
   "id": "266ee9fbf341e7b8",
   "outputs": [
    {
     "name": "stdout",
     "output_type": "stream",
     "text": [
      "Kết quả dự đoán: \n",
      " [2 2 0 1 0 0 0 0 1 0 0 1 2 2 1 2 1 2 1 0 0 2 2 0 2 1 2 1 1 2 0 1 2 0 2 0 0\n",
      " 2 1 2 1 1 0 1 2 1 0 2 0 0]\n",
      "Kết quả thực: \n",
      " [2 2 0 1 0 0 0 0 1 0 0 1 2 2 1 2 1 2 1 0 0 2 2 0 2 1 2 1 1 2 0 1 2 0 2 0 0\n",
      " 2 1 2 1 1 0 1 2 1 0 2 0 0]\n"
     ]
    }
   ],
   "execution_count": 65
  },
  {
   "metadata": {
    "ExecuteTime": {
     "end_time": "2024-07-01T15:15:43.074691Z",
     "start_time": "2024-07-01T15:15:43.066812Z"
    }
   },
   "cell_type": "code",
   "source": "print('Độ chính xác: %.2f %%' %(100*accuracy_score(y_test, y_pred)))",
   "id": "c01579375e65dbb6",
   "outputs": [
    {
     "name": "stdout",
     "output_type": "stream",
     "text": [
      "Độ chính xác: 100.00 %\n"
     ]
    }
   ],
   "execution_count": 66
  }
 ],
 "metadata": {
  "kernelspec": {
   "display_name": "Python 3",
   "language": "python",
   "name": "python3"
  },
  "language_info": {
   "codemirror_mode": {
    "name": "ipython",
    "version": 2
   },
   "file_extension": ".py",
   "mimetype": "text/x-python",
   "name": "python",
   "nbconvert_exporter": "python",
   "pygments_lexer": "ipython2",
   "version": "2.7.6"
  }
 },
 "nbformat": 4,
 "nbformat_minor": 5
}
