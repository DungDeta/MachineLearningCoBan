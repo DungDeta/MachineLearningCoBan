{
 "cells": [
  {
   "metadata": {},
   "cell_type": "markdown",
   "source": [
    "Giới thiệu về PLA:\n",
    "- PLA là một thuật toán học máy cơ bản, dùng để phân loại dữ liệu trong trường hợp cụ thể tức là chỉ có 2 class hay được gọi là binary classification. Mặc dù đơn giản nhưng đây là nền tảng quang trọng để hiểu về các thuật toán học máy phức tạp hơn.\n",
    "\n",
    "Giả sử ta có 2 tập hợp dữ liệu đã được gán nhãn. Bài toán đặt ra là từ dữ liệu của hai tập được gắn nhãn cho trước, hãy xây dựng một classifier để phân loại dữ liệu mới mà chưa được gán nhãn.\n",
    "\n",
    "Hiểu đơn giản hơn, ta cần tìm vùng \"lãnh thổ\" của mỗi class để khi thêm điểm mới ta chỉ cần xem nằm ở lãnh thổ thuộc class nào. Vậy bải toán đặt ra là tìm ra đường phân chia hai class (boundary) sao cho đường này phân chia hai class một cách tốt nhất. Với mỗi chiều cao hơn thì đường phân chia sẽ có các tên gọi khác như là đường thẳng(2D), mặt phẳng(3D), siêu mặt phẳng(nD) nhưng ở đây chỉ gọi đơn giản là đường phân chia. Những đường này được gọi là giản đơn vì chúng có thể biểu diễn dưới dạng phương trình tuyến tính."
   ],
   "id": "7790a9212661458c"
  },
  {
   "metadata": {},
   "cell_type": "markdown",
   "source": [
    "Bài toán Perceptron được phát biểu như sau: *Cho hai class được gán nhãn, hãy tìm một đường phẳng sao cho toàn bộ các điểm thuộc class 1 nằm về 1 phía, toàn bộ các điểm thuộc class 2 nằm về phía còn lại của đường phẳng đó. Với giả định rằng tồn tại một đường phẳng như thế.*\n",
    "Nếu tồn tại một đường phẳng phân chia hai class thì ta gọi hai class đó là ***linearly separable***. Các thuật toán classification tạo ra các boundary là các đường phẳng được gọi chung là Linear Classifier."
   ],
   "id": "6a93211987ee1fe9"
  },
  {
   "metadata": {},
   "cell_type": "markdown",
   "source": [
    "Giả sử $\\mathbf{X} = [x_1,x_2,x_3,...,x_N] \\in R^{d*N}$ là ma trận chứa các điểm dữ liệu với mỗi cột ${x_i \\in R^{d.1}$ là một điểm dữ liệu trong không gian $d$ chiều.\n",
    "\n",
    "Giả sử thêm việc các nhãn tương ứng với các điểm dữ liệu trên là $\\mathbf{y} = [y_1,y_2,y_3,...,y_N] \\in R^{1.N}$ với $y_i \\in \\{-1,1\\}$. Nếu $y_i = 1$ thì điểm $x_i$ thuộc class 1, ngược lại nếu $y_i = -1$ thì điểm $x_i$ thuộc class 2.\n",
    "\n",
    "Tại một thời điểm ta tìm được đường phân chia có dạng phương trình linear:\n",
    "\n",
    "$\\mathbf{f_w}(x) = w_1x_1 + w_2x_2 + ... + w_dx_d + w_0 $<br>$= \\mathbf{w^T\\bar{x}} = 0$\n",
    "\n",
    "Với: <br> $\\mathbf{w} = [w_1,w_2,...,w_d,w_0] \\in R^{(d+1).1}$ là vector trọng số<br> $\\mathbf{\\bar{x}} = [x_1,x_2,...,x_d,1] \\in R^{(d+1).1}$ là vector mở rộng của vector $x$.\n",
    "\n",
    "Dễ thấy sẽ có 2 vùng dữ liệu được phân chia bởi đường phân chia: <br> $H_1 = \\{x|\\mathbf{w^T\\bar{x}} > 0\\}$<br> $H_2 = \\{x|\\mathbf{w^T\\bar{x}} < 0\\}$<br> Với $H_1$ là vùng dữ liệu thuộc class 1 và $H_2$ là vùng dữ liệu thuộc class 2.\n",
    "\n",
    "Ngắn gọn hơn ta có thể viết thành như sau:<br>\n",
    "$lable(x) = 1 \\text{ if } \\mathbf{w^T\\bar{x}} \\geq 0 , \\text{ otherwise } -1$<br>\n",
    "Ta sẽ có hàm loss function như sau:<br>\n",
    "$J(\\mathbf{w}) = \\sum_{x_i\\in M}(-y_isgn(\\mathbf{w}^T\\mathbf{x_i}))$<br>\n",
    "Với $M$ là tập hợp các điểm dữ liệu bị phân loại sai.<br>\n",
    "Nhưng vì hàm loss function này không khả vi nên ta sẽ sử dụng hàm loss function khác:<br>\n",
    "$J(\\mathbf{w}) = \\sum_{x_i\\in M}(-y_i\\mathbf{w}^T\\mathbf{x_i})$<br>\n",
    "Hàm này khác một chút so với hàm trên khi bỏ đi hàm sgn. Nên khi một điểm bị phân loại sai thì hàm này sẽ có giá trị rất lớn thay vì chỉ là 1 như hàm trên và hàm có cực tiểu bằng 0 khi tất cả các điểm đều được phân loại đúng."
   ],
   "id": "7c638fd1ad77cdc3"
  },
  {
   "metadata": {
    "ExecuteTime": {
     "end_time": "2024-07-04T14:26:33.822304Z",
     "start_time": "2024-07-04T14:26:33.818412Z"
    }
   },
   "cell_type": "code",
   "source": [
    "import numpy as np \n",
    "import matplotlib.pyplot as plt\n",
    "from scipy.spatial.distance import cdist\n",
    "np.random.seed(2)"
   ],
   "id": "f68a66693726b4f1",
   "outputs": [],
   "execution_count": 2
  },
  {
   "metadata": {
    "ExecuteTime": {
     "end_time": "2024-07-04T14:26:46.917749Z",
     "start_time": "2024-07-04T14:26:46.909829Z"
    }
   },
   "cell_type": "code",
   "source": [
    "means = [[2, 2], [4, 2]]\n",
    "cov = [[.3, .2], [.2, .3]]\n",
    "N = 10\n",
    "X0 = np.random.multivariate_normal(means[0], cov, N).T\n",
    "X1 = np.random.multivariate_normal(means[1], cov, N).T"
   ],
   "id": "f6823a7ddbcd3c08",
   "outputs": [],
   "execution_count": 3
  },
  {
   "metadata": {
    "ExecuteTime": {
     "end_time": "2024-07-04T14:27:25.870796Z",
     "start_time": "2024-07-04T14:27:25.765377Z"
    }
   },
   "cell_type": "code",
   "source": [
    "plt.scatter(X0[0], X0[1], c='r')\n",
    "plt.scatter(X1[0], X1[1], c='b')"
   ],
   "id": "96fecb5afb5333f9",
   "outputs": [
    {
     "data": {
      "text/plain": [
       "<matplotlib.collections.PathCollection at 0x201e8370e50>"
      ]
     },
     "execution_count": 7,
     "metadata": {},
     "output_type": "execute_result"
    },
    {
     "data": {
      "text/plain": [
       "<Figure size 640x480 with 1 Axes>"
      ],
      "image/png": "[encoded data removed]"
     },
     "metadata": {},
     "output_type": "display_data"
    }
   ],
   "execution_count": 7
  },
  {
   "metadata": {
    "ExecuteTime": {
     "end_time": "2024-07-04T14:53:29.531811Z",
     "start_time": "2024-07-04T14:53:29.512429Z"
    }
   },
   "cell_type": "code",
   "source": [
    "X = np.concatenate((X0, X1), axis = 1) # gộp 2 tập dữ liệu lại\n",
    "y = np.concatenate((np.ones((1, N)), -1*np.ones((1, N))), axis = 1) # đánh nhãn 1 cho class 1 và -1 cho class 2\n",
    "X = np.concatenate((np.ones((1, 2*N)), X), axis = 0) # thêm 1 vào vector x để nhân với w0"
   ],
   "id": "53d6ff172630a8ed",
   "outputs": [],
   "execution_count": 28
  },
  {
   "metadata": {
    "ExecuteTime": {
     "end_time": "2024-07-04T15:24:01.841590Z",
     "start_time": "2024-07-04T15:24:01.836968Z"
    }
   },
   "cell_type": "code",
   "source": [
    "def numerical_grad(fx, w, X, y, eps=1e-6):\n",
    "    grad = np.zeros_like(w)\n",
    "    perturb = np.zeros_like(w)\n",
    "    for i in range(w.size):\n",
    "        perturb[i] = eps # tạo một vector có giá trị eps tại vị trí thứ i\n",
    "        loss1 = fx(X, y, w + perturb) # tính loss tại w + eps\n",
    "        loss2 = fx(X, y, w - perturb) # tính loss tại w - eps\n",
    "        grad[i] = (loss1 - loss2) / (2 * eps) # tính đạo hàm tại biến thứ i\n",
    "        perturb[i] = 0  # reset lại perturb\n",
    "    return grad\n",
    "def loss_function(X, y, w):\n",
    "    return np.sum(-y * (w.T.dot(X)))\n",
    "def h(w, x):    \n",
    "    return np.sign(np.dot(w.T, x))\n",
    "def has_converged(X, y, w):\n",
    "    return np.array_equal(h(w, X), y) "
   ],
   "id": "6355727b547cfe74",
   "outputs": [],
   "execution_count": 51
  },
  {
   "metadata": {
    "ExecuteTime": {
     "end_time": "2024-07-04T15:24:02.186628Z",
     "start_time": "2024-07-04T15:24:02.180963Z"
    }
   },
   "cell_type": "code",
   "source": [
    "def perceptron(X, y, w_init):\n",
    "    w = [w_init]\n",
    "    N = X.shape[1]\n",
    "    d = X.shape[0]\n",
    "    mis_points = []\n",
    "    while True:\n",
    "        mix_id = np.random.permutation(N)\n",
    "        for i in range(N):\n",
    "            xi = X[:, mix_id[i]].reshape(d, 1) \n",
    "            yi = y[0, mix_id[i]] # lấy điểm dữ liệu và nhãn tương ứng\n",
    "            if h(w[-1], xi)[0] != yi: # nếu phân loại sai thì cập nhật lại w\n",
    "                grad = numerical_grad(loss_function, w[-1], xi, yi, eps=1e-6)\n",
    "                w_new = w[-1] - grad  # Cập nhật w\n",
    "                w.append(w_new)\n",
    "                mis_points.append(mix_id[i])\n",
    "        if has_converged(X, y, w[-1]):\n",
    "            break\n",
    "    return w, mis_points"
   ],
   "id": "c1b98c527bc4ddd7",
   "outputs": [],
   "execution_count": 52
  },
  {
   "metadata": {
    "ExecuteTime": {
     "end_time": "2024-07-04T15:24:02.611615Z",
     "start_time": "2024-07-04T15:24:02.605120Z"
    }
   },
   "cell_type": "code",
   "source": [
    "d = X.shape[0]\n",
    "w_init = np.random.randn(d, 1)\n",
    "(w, m) = perceptron(X, y, w_init)"
   ],
   "id": "74cfef6ce02b7dc1",
   "outputs": [],
   "execution_count": 53
  },
  {
   "metadata": {
    "ExecuteTime": {
     "end_time": "2024-07-04T15:24:03.138498Z",
     "start_time": "2024-07-04T15:24:03.020250Z"
    }
   },
   "cell_type": "code",
   "source": [
    "plt.scatter(X0[0], X0[1], c='r')\n",
    "plt.scatter(X1[0], X1[1], c='b')\n",
    "plt.plot([0, 6], [-(w[-1][0] + w[-1][1]*0)/w[-1][2], -(w[-1][0] + w[-1][1]*6)/w[-1][2]], 'k')"
   ],
   "id": "74c4f7deb7cfbf3",
   "outputs": [
    {
     "data": {
      "text/plain": [
       "[<matplotlib.lines.Line2D at 0x201ed2ad290>]"
      ]
     },
     "execution_count": 54,
     "metadata": {},
     "output_type": "execute_result"
    },
    {
     "data": {
      "text/plain": [
       "<Figure size 640x480 with 1 Axes>"
      ],
      "image/png": "[encoded data removed]"
     },
     "metadata": {},
     "output_type": "display_data"
    }
   ],
   "execution_count": 54
  },
  {
   "metadata": {},
   "cell_type": "code",
   "outputs": [],
   "execution_count": null,
   "source": "",
   "id": "ba0d93f790e74d44"
  }
 ],
 "metadata": {
  "kernelspec": {
   "display_name": "Python 3",
   "language": "python",
   "name": "python3"
  },
  "language_info": {
   "codemirror_mode": {
    "name": "ipython",
    "version": 2
   },
   "file_extension": ".py",
   "mimetype": "text/x-python",
   "name": "python",
   "nbconvert_exporter": "python",
   "pygments_lexer": "ipython2",
   "version": "2.7.6"
  }
 },
 "nbformat": 4,
 "nbformat_minor": 5
}
